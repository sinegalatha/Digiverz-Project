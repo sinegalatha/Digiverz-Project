{
 "cells": [
  {
   "cell_type": "code",
   "execution_count": 1,
   "metadata": {},
   "outputs": [],
   "source": [
    "import os\n",
    "import matplotlib.pyplot as plt      \n",
    "import numpy as np\n",
    "import PIL                      \n",
    "import keras                   \n",
    "from flask import Flask, request, redirect, render_template\n",
    "from werkzeug.utils import secure_filename\n",
    "import statsmodels.api as sm"
   ]
  },
  {
   "cell_type": "code",
   "execution_count": 3,
   "metadata": {},
   "outputs": [
    {
     "name": "stdout",
     "output_type": "stream",
     "text": [
      " * Serving Flask app \"__main__\" (lazy loading)\n",
      " * Environment: production\n",
      "   WARNING: This is a development server. Do not use it in a production deployment.\n",
      "   Use a production WSGI server instead.\n",
      " * Debug mode: off\n"
     ]
    },
    {
     "name": "stderr",
     "output_type": "stream",
     "text": [
      " * Running on http://127.0.0.1:5000/ (Press CTRL+C to quit)\n",
      "127.0.0.1 - - [10/Nov/2022 23:10:16] \"\u001b[37mGET / HTTP/1.1\u001b[0m\" 200 -\n",
      "127.0.0.1 - - [10/Nov/2022 23:10:33] \"\u001b[37mGET /index HTTP/1.1\u001b[0m\" 200 -\n"
     ]
    },
    {
     "name": "stdout",
     "output_type": "stream",
     "text": [
      "Yearly\n",
      "Yearly\n",
      "2\n",
      "AirPassengers.csv\n",
      "Yearly\n",
      "yes\n"
     ]
    },
    {
     "name": "stderr",
     "output_type": "stream",
     "text": [
      "C:\\Users\\Sinegalatha\\anaconda3\\lib\\site-packages\\statsmodels\\tsa\\base\\tsa_model.py:159: ValueWarning: No frequency information was provided, so inferred frequency MS will be used.\n",
      "  warnings.warn('No frequency information was'\n",
      "C:\\Users\\Sinegalatha\\anaconda3\\lib\\site-packages\\statsmodels\\tsa\\base\\tsa_model.py:159: ValueWarning: No frequency information was provided, so inferred frequency MS will be used.\n",
      "  warnings.warn('No frequency information was'\n"
     ]
    },
    {
     "name": "stdout",
     "output_type": "stream",
     "text": [
      "1960-12-01\n",
      "1962-12-01\n",
      "             0\n",
      "0   432.000000\n",
      "1   421.240383\n",
      "2   468.172099\n",
      "3   454.963203\n",
      "4   462.793275\n",
      "5   532.349304\n",
      "6   581.485722\n",
      "7   655.163669\n",
      "8   802.591063\n",
      "9   876.103412\n",
      "10  766.276845\n",
      "11  620.808755\n",
      "12  504.456416\n",
      "13  479.893332\n",
      "14  527.868984\n",
      "15  513.337775\n",
      "16  517.998975\n",
      "17  587.949220\n",
      "18  639.367583\n",
      "19  713.505890\n",
      "20  862.584292\n",
      "21  935.088032\n",
      "22  823.384139\n",
      "23  678.470634\n",
      "24  561.564738\n",
      "25  534.987036\n"
     ]
    },
    {
     "name": "stderr",
     "output_type": "stream",
     "text": [
      "127.0.0.1 - - [10/Nov/2022 23:10:44] \"\u001b[37mPOST /index2 HTTP/1.1\u001b[0m\" 200 -\n"
     ]
    },
    {
     "name": "stdout",
     "output_type": "stream",
     "text": [
      "Monthly\n",
      "Monthly\n",
      "4\n",
      "AirPassengers.csv\n",
      "Monthly\n",
      "yes\n"
     ]
    },
    {
     "name": "stderr",
     "output_type": "stream",
     "text": [
      "C:\\Users\\Sinegalatha\\anaconda3\\lib\\site-packages\\statsmodels\\tsa\\base\\tsa_model.py:159: ValueWarning: No frequency information was provided, so inferred frequency MS will be used.\n",
      "  warnings.warn('No frequency information was'\n",
      "C:\\Users\\Sinegalatha\\anaconda3\\lib\\site-packages\\statsmodels\\tsa\\base\\tsa_model.py:159: ValueWarning: No frequency information was provided, so inferred frequency MS will be used.\n",
      "  warnings.warn('No frequency information was'\n"
     ]
    },
    {
     "name": "stdout",
     "output_type": "stream",
     "text": [
      "1960-12-01\n",
      "1961-04-01\n",
      "            0\n",
      "0  432.000000\n",
      "1  421.240383\n",
      "2  468.172099\n",
      "3  454.963203\n",
      "4  462.793275\n",
      "5  532.349304\n"
     ]
    },
    {
     "name": "stderr",
     "output_type": "stream",
     "text": [
      "127.0.0.1 - - [10/Nov/2022 23:10:57] \"\u001b[37mPOST /index2 HTTP/1.1\u001b[0m\" 200 -\n"
     ]
    },
    {
     "name": "stdout",
     "output_type": "stream",
     "text": [
      "Days\n",
      "Days\n",
      "10\n",
      "AirPassengers.csv\n",
      "Days\n"
     ]
    },
    {
     "name": "stderr",
     "output_type": "stream",
     "text": [
      "C:\\Users\\Sinegalatha\\anaconda3\\lib\\site-packages\\statsmodels\\tsa\\base\\tsa_model.py:159: ValueWarning: No frequency information was provided, so inferred frequency MS will be used.\n",
      "  warnings.warn('No frequency information was'\n",
      "C:\\Users\\Sinegalatha\\anaconda3\\lib\\site-packages\\statsmodels\\tsa\\base\\tsa_model.py:159: ValueWarning: No frequency information was provided, so inferred frequency MS will be used.\n",
      "  warnings.warn('No frequency information was'\n"
     ]
    },
    {
     "name": "stdout",
     "output_type": "stream",
     "text": [
      "1960-12-01\n",
      "1960-12-11\n",
      "            0\n",
      "0  432.000000\n",
      "1  421.240383\n",
      "2  468.172099\n"
     ]
    },
    {
     "name": "stderr",
     "output_type": "stream",
     "text": [
      "127.0.0.1 - - [10/Nov/2022 23:11:09] \"\u001b[37mPOST /index2 HTTP/1.1\u001b[0m\" 200 -\n"
     ]
    },
    {
     "data": {
      "image/png": "[encoded data removed]",
      "text/plain": [
       "<Figure size 432x288 with 1 Axes>"
      ]
     },
     "metadata": {},
     "output_type": "display_data"
    }
   ],
   "source": [
    "from flask import Flask, request, redirect, render_template\n",
    "import io\n",
    "from datetime import date, timedelta\n",
    "from datetime import datetime, timedelta\n",
    "from dateutil.relativedelta import relativedelta\n",
    "import imageio as iio\n",
    "import pandas as pd\n",
    "import seaborn as sns\n",
    "sns.set_style('whitegrid')\n",
    "from io import BytesIO\n",
    "from PIL import Image\n",
    "import base64\n",
    "allowed_exts = {'csv', 'xlsx'}\n",
    "app = Flask(__name__)\n",
    "def check_allowed_file(filename):\n",
    "\treturn '.' in filename and filename.rsplit('.', 1)[1].lower() in allowed_exts\n",
    "@app.route(\"/\",methods=['GET', 'POST'])\n",
    "def home():\n",
    "    return render_template('front.html')\n",
    "@app.route(\"/index\",methods=['GET', 'POST'])\n",
    "def index():\n",
    "    return render_template('index.html')\n",
    "@app.route(\"/index2\",methods=['GET', 'POST'])\n",
    "def index2():\n",
    "\tif request.method == 'POST':\n",
    "\t\tif 'file' not in request.files:\n",
    "\t\t\tprint('No file attached in request')\n",
    "\t\t\treturn redirect(request.url)\n",
    "\t\tfile = request.files['file']\n",
    "\t\tperiod=request.form.get(\"period\")\n",
    "\t\tprint(period)\n",
    "\t\tcount=int(request.form.get(\"count\"))\n",
    "\t\tprint(period)\n",
    "\t\tprint(count)\n",
    "\t\tif file.filename == '':\n",
    "\t\t\tprint('No file selected')\n",
    "\t\t\treturn redirect(request.url)\n",
    "\t\tif file and check_allowed_file(file.filename):\n",
    "\t\t\tfilename = secure_filename(file.filename)\n",
    "\t\t\tprint(filename)\n",
    "\t\t\tfile.save(\"C:/Users/Sinegalatha/Desktop/Kaar/Digiverse Project/salesforecasting/static/\"+filename)\n",
    "\t\t\tdata = pd.read_csv(\"C:/Users/Sinegalatha/Desktop/Kaar/Digiverse Project/salesforecasting/static/\"+filename)\n",
    "\t\t\tdata1=data     \n",
    "\t\t\tdata1[\"Period\"] = data1['datesold'].astype(str) +\"-\"+ '01'\n",
    "\t\t\tdata['datesold']=pd.to_datetime(data['datesold'],infer_datetime_format=True)\n",
    "\t\t\tdata.set_index(['datesold'],inplace=True)\n",
    "\t\t\tdata.sort_index(inplace=True)\n",
    "\t\t\tprint(period)\n",
    "\t\t\tif period==\"Days\":\n",
    "\t\t\t\tst=data1['Period'].iloc[-1]\n",
    "\t\t\t\tarr=list(map(int,st.split('-')))\n",
    "\t\t\t\tstd = datetime(arr[0], arr[1], arr[2])\n",
    "\t\t\t\tnew_date = std + timedelta(count)\n",
    "\t\t\t\ten=new_date.date()\n",
    "\t\t\telif period==\"Monthly\":\n",
    "\t\t\t\tprint(\"yes\")\n",
    "\t\t\t\tst=data1['Period'].iloc[-1]\n",
    "\t\t\t\tarr=list(map(int,st.split('-')))\n",
    "\t\t\t\tstd = datetime(arr[0], arr[1], arr[2])\n",
    "\t\t\t\tnew_date = std + relativedelta(months=+count)\n",
    "\t\t\t\ten=new_date.date()\n",
    "\t\t\telif period==\"Yearly\":\n",
    "\t\t\t\tprint(\"yes\")\n",
    "\t\t\t\tst=data1['Period'].iloc[-1]\n",
    "\t\t\t\tarr=list(map(int,st.split('-')))\n",
    "\t\t\t\tstd = datetime(arr[0], arr[1], arr[2])\n",
    "\t\t\t\tnew_date = std + relativedelta(years=+count)\n",
    "\t\t\t\ten=new_date.date()\n",
    "\t\t\tts = data['price']\n",
    "\t\t\tdf_shift=ts.diff(2).dropna()\n",
    "\t\t\tmod = sm.tsa.statespace.SARIMAX(df_shift,\n",
    "                                order=(1, 1, 1),\n",
    "                                seasonal_order=(1, 1, 1, 12),\n",
    "                                enforce_stationarity=False,\n",
    "                                enforce_invertibility=False)\n",
    "\t\t\tresults = mod.fit()\n",
    "\t\t\tp=[0]*count\n",
    "\t\t\tp[0]=data.iloc[-1][0]\n",
    "\t\t\tp[1:]=results.predict(start=std.date(),end=en)\n",
    "\t\t\tprint(std.date())\n",
    "\t\t\tprint(en)\n",
    "\t\t\tprint(pd.DataFrame(p).cumsum())\n",
    "\t\t\tplt.plot(pd.DataFrame(p).cumsum())\n",
    "\t\t\tplt.ylabel('Price')\n",
    "\t\t\tplt.title('Price forecasting')\n",
    "\t\t\tplt.savefig('C:/Users/Sinegalatha/Desktop/Kaar/Digiverse Project/salesforecasting/static/v5.jpg')\n",
    "\t\t\t#img = iio.imread(\"C:/Users/Sinegalatha/Desktop/Kaar/Digiverse Project/salesforecasting/static/v5.jpg\")\n",
    "\t\t\timg = Image.open(\"C:/Users/Sinegalatha/Desktop/Kaar/Digiverse Project/salesforecasting/static/v5.jpg\")\n",
    "\t\t\tdata = io.BytesIO()\n",
    "\t\t\timg.save(data, \"JPEG\")\n",
    "\t\t\tencoded_img_data = base64.b64encode(data.getvalue())\n",
    "\t\t\treturn render_template('index2.html',img_data=encoded_img_data.decode('utf-8'))\n",
    "\telse:\n",
    "\t\treturn render_template('index2.html')\n",
    "if __name__ == \"__main__\":\n",
    "\tapp.debug=True\n",
    "\tapp.run(debug=False)"
   ]
  },
  {
   "cell_type": "code",
   "execution_count": null,
   "metadata": {},
   "outputs": [],
   "source": []
  }
 ],
 "metadata": {
  "kernelspec": {
   "display_name": "Python 3",
   "language": "python",
   "name": "python3"
  },
  "language_info": {
   "codemirror_mode": {
    "name": "ipython",
    "version": 3
   },
   "file_extension": ".py",
   "mimetype": "text/x-python",
   "name": "python",
   "nbconvert_exporter": "python",
   "pygments_lexer": "ipython3",
   "version": "3.8.3"
  }
 },
 "nbformat": 4,
 "nbformat_minor": 4
}
